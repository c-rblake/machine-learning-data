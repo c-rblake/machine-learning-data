{
 "cells": [
  {
   "cell_type": "code",
   "execution_count": 1,
   "metadata": {},
   "outputs": [],
   "source": [
    "import numpy as np\n",
    "from matplotlib import pyplot as plt"
   ]
  },
  {
   "cell_type": "markdown",
   "metadata": {},
   "source": [
    "# Using Images to explain Machine learning\n",
    "Images are usually analyzed in machine learning. Here instead I give an intro to images and machine learning in images.\n",
    "We start with an grayscale array.  "
   ]
  },
  {
   "cell_type": "code",
   "execution_count": 18,
   "metadata": {},
   "outputs": [
    {
     "data": {
      "image/png": "[encoded data removed]",
      "text/plain": [
       "<Figure size 432x288 with 1 Axes>"
      ]
     },
     "metadata": {
      "needs_background": "light"
     },
     "output_type": "display_data"
    }
   ],
   "source": [
    "pixels = np.array([0,1,0.5,1,0.5,0], dtype=np.float64)\n",
    "line = pixels.reshape((1,6))\n",
    "plt.imshow(line, cmap='gray', interpolation='nearest')\n",
    "plt.title('This is how one obeservation could look like')\n",
    "plt.show()"
   ]
  },
  {
   "cell_type": "code",
   "execution_count": 21,
   "metadata": {},
   "outputs": [
    {
     "data": {
      "image/png": "[encoded data removed]",
      "text/plain": [
       "<Figure size 432x288 with 1 Axes>"
      ]
     },
     "metadata": {
      "needs_background": "light"
     },
     "output_type": "display_data"
    }
   ],
   "source": [
    "bitmap = pixels.reshape((2,3))\n",
    "plt.imshow(bitmap, cmap='gray', interpolation='nearest')\n",
    "plt.title('The same data but reshaped, this is what a greyscale image looks like')\n",
    "plt.show()"
   ]
  },
  {
   "cell_type": "markdown",
   "metadata": {},
   "source": [
    "Usually though images have 3 channels, in addition. One for each red, green, blue\n"
   ]
  },
  {
   "cell_type": "code",
   "execution_count": 45,
   "metadata": {},
   "outputs": [
    {
     "data": {
      "image/png": "[encoded data removed]",
      "text/plain": [
       "<Figure size 1080x216 with 3 Axes>"
      ]
     },
     "metadata": {},
     "output_type": "display_data"
    }
   ],
   "source": [
    "fig, axes = plt.subplots(figsize=(15,3), nrows=1, ncols=3)\n",
    "plt.setp(axes, xticks=[], xticklabels=[],\n",
    "        yticks=[])\n",
    "fig.suptitle('For an image we usually have red green and blue data as one observation', fontsize=16)\n",
    "axes[0].imshow(bitmap, cmap='Reds', interpolation='nearest')\n",
    "axes[1].imshow(bitmap, cmap='Greens', interpolation='nearest')\n",
    "axes[2].imshow(bitmap, cmap='Blues', interpolation='nearest')\n",
    "plt.show()"
   ]
  },
  {
   "cell_type": "markdown",
   "metadata": {},
   "source": [
    "If we look at the shapes of the objects above starting from the line"
   ]
  },
  {
   "cell_type": "code",
   "execution_count": 48,
   "metadata": {},
   "outputs": [
    {
     "name": "stdout",
     "output_type": "stream",
     "text": [
      "(6,)\n"
     ]
    },
    {
     "data": {
      "text/plain": [
       "(2, 3)"
      ]
     },
     "execution_count": 48,
     "metadata": {},
     "output_type": "execute_result"
    }
   ],
   "source": [
    "print(pixels.shape)\n",
    "bitmap.shape"
   ]
  },
  {
   "cell_type": "code",
   "execution_count": 51,
   "metadata": {},
   "outputs": [
    {
     "data": {
      "text/plain": [
       "(3, 2, 3)"
      ]
     },
     "execution_count": 51,
     "metadata": {},
     "output_type": "execute_result"
    }
   ],
   "source": [
    "# Our image would look something like\n",
    "image = np.array([bitmap,bitmap,bitmap])\n",
    "image.shape"
   ]
  },
  {
   "cell_type": "markdown",
   "metadata": {},
   "source": [
    "So these are some of the ways we represent data.\n",
    "we can pass to a model data as a line data as in an observation. This is a common way to see things such as spread sheets.\n",
    "We can also pass to models data in shapes of images in grayscale which looks a bit different. And even expand on that to multi-dimensional data.\n",
    "I think showing this way gives good intuition to what we can do. \n"
   ]
  }
 ],
 "metadata": {
  "kernelspec": {
   "display_name": "Python 3",
   "language": "python",
   "name": "python3"
  },
  "language_info": {
   "codemirror_mode": {
    "name": "ipython",
    "version": 3
   },
   "file_extension": ".py",
   "mimetype": "text/x-python",
   "name": "python",
   "nbconvert_exporter": "python",
   "pygments_lexer": "ipython3",
   "version": "3.8.3"
  }
 },
 "nbformat": 4,
 "nbformat_minor": 4
}
